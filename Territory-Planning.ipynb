{
 "cells": [
  {
   "cell_type": "markdown",
   "id": "e1914381",
   "metadata": {},
   "source": [
    "## 🎯 Territory Planning at Sigma – A Data-Driven Approach"
   ]
  },
  {
   "cell_type": "markdown",
   "id": "8bfbf24e",
   "metadata": {},
   "source": [
    "#### <ins>🌟 Situation </ins>\n",
    "\n",
    "Sigma’s GTM team is growing rapidly and needs a scalable, fair approach to territory carving. \n",
    "Territory assignments were previously done manually, leading to:\n",
    "- Uneven distribution of account potential\n",
    "- Overloaded reps in high-density verticals\n",
    "- A need for alignment into rep capacity vs. opportunity\n",
    "\n",
    "Therefore leadership seeks a data-driven model to increase rep productivity, balance workload, and improve ARR generation."
   ]
  },
  {
   "cell_type": "markdown",
   "id": "5270a393",
   "metadata": {},
   "source": [
    "#### <ins> 🛠️ Task </ins>\n",
    "\n",
    "**Goal:** Design a territory carving model that:\n",
    "- Scores accounts based on opportunity\n",
    "- Measures rep capacity and utilization\n",
    "- Creates fair and balanced territory buckets\n",
    "- Assigns accounts equitably amongst reps\n",
    "\n",
    "With collaboration from the correct stakeholders and business alignment this could serve as the foundation for future scaling and automation.\n"
   ]
  },
  {
   "cell_type": "markdown",
   "id": "f27ca0e0",
   "metadata": {},
   "source": [
    " #### 👨🏽‍💻 <ins> Framing the Problem </ins>\n",
    "\n",
    "- **Optimization problem**: Trying to create alignment between a sellers capacity and the workload required to effectively cover a territory.\n",
    "- Strategy: People, Process, technology.\n",
    "- A balancing act between account potential and rep specialization.\n",
    "- Well-defined territories ensure that all customers receive appropriate attention, fostering better relationships and improving customer satisfaction. \n",
    "- Fair and equitable territory assignments help maintain competitive and motivated sales force, with equal earning opportunity on the incentive plan.\n",
    "-An effort to maximize ARR.\n",
    "\n",
    "**Common challenge**:\n",
    "- Poor planning methodologies are difficult to adapt to market changes, mergers or expansions and maintain sales effectiveness\n",
    "\n"
   ]
  },
  {
   "cell_type": "markdown",
   "id": "eb7b3f50",
   "metadata": {},
   "source": [
    "#### <ins> 🙋🏽‍♂️ Key clarifying questions: </ins> \n",
    "- What are the company’s strategic goals for the year ahead? (e.g., focusing on a specific region, segment, or overtaking a competitor?)\n",
    "- What’s the primary goal from a territority distribution point: equal pipeline, equal ARR, or rep productivity?\n",
    "- Are there carve constraints like geography, industry, or account size?\n",
    "- How are reps currently distributed? Any known imbalances?\n",
    "- What role should current account ownership play?\n",
    "    - Is there a need to preserve ownership?\n",
    "    - What are implications of reassigning accounts?\n",
    "- Are the marketing efforts in specific regions? "
   ]
  },
  {
   "cell_type": "markdown",
   "id": "2db3a8de",
   "metadata": {},
   "source": [
    "#### <ins> 🚀 Actions </ins>\n",
    "\n",
    "##### Getting the Necessary data elements:\n",
    "\n",
    "- Account-level firmographics (industry, size, location, region)\n",
    "- Historical sales (ARR, pipeline contribution, win rate)\n",
    "- Engagement activity (touchpoints, meetings, email opens)\n",
    "- Current rep ownership and performance\n",
    "- Tech stack (BI tool, data warehouse)\n",
    "\n",
    "##### Key account attributes to prioritize when carving:\n",
    "\n",
    "- Segment (SMB, Mid-Market, Enterprise)\n",
    "- Region and Geo coverage\n",
    "- Industry vertical\n",
    "- Current data stack (Snowflake, Azure, etc.)\n",
    "- ICP Fit + engagement level(marketing or account activity)\n",
    "- Estimated account potential (ARR projection)\n",
    "\n",
    "\n",
    "##### How would you propose we balance territories?\n",
    "\n",
    "- Use a territory index that accounts for:\n",
    "  - Number of accounts\n",
    "  - Projected ARR\n",
    "  - Engagement score\n",
    "  - ICP fit\n",
    "\n",
    "- Normalize index values to ensure each rep receives an equitable workload\n",
    "\n",
    "- Carve by a mix of:\n",
    "  - Segment (e.g., SMB, Mid-Market, Enterprise)\n",
    "  - Geo (e.g., North America, EMEA, APAC)\n",
    "  - Industry vertical (e.g., Finance, Retail, Healthcare)\n",
    "  - Tech stack (e.g., Snowflake users, existing BI tools)\n",
    "\n",
    "##### How would you avoid common pitfalls?\n",
    "\n",
    "- Apply clear, rules-based logic to avoid manual cherry-picking\n",
    "- Run simulations to detect and prevent over-concentration of high-potential accounts in one territory\n",
    "- Consider rep utilization and capacity alongside account score\n",
    "- Ensure transparency by documenting business rules in dbt models and on a company repository\n",
    "- Build dashboards for leadership to validate carve fairness before rollout\n",
    "\n",
    "\n",
    "##### 🧱 Data Foundation\n",
    "- Created synthetic datasets for:\n",
    "  - B2B accounts (`synthetic_b2b_sales_data.csv`)\n",
    "  - Sales rep performance (`synthetic_rep_performance.csv`)\n",
    "  - Current assignments (`synthetic_current_assignments.csv`)\n",
    "- Integrated these into a modular dbt project\n",
    "\n",
    "##### 🧠 Modeling Steps (dbt)\n",
    "| Model                    | Purpose                                 |\n",
    "|--------------------------|-----------------------------------------|\n",
    "| `scored_icp_accounts`    | Scored accounts based on ICP, engagement, and ARR |\n",
    "| `account_potential`      | Estimated spend using employee size + tech stack |\n",
    "| `territory_bucketed_accounts` | Assigned each account to a bucket (e.g., MM-NA-Retail) |\n",
    "| `territory_index`        | Calculated a normalized score for each territory |\n",
    "| `territory_assignment_plan` | Mapped accounts to reps using capacity and specialty alignment |\n"
   ]
  },
  {
   "cell_type": "markdown",
   "id": "2211cfc1",
   "metadata": {},
   "source": [
    "### 🧾 Result\n",
    "\n",
    "✅ Data-backed territory planning pipeline.\n",
    "\n",
    "- Accounts were bucketed into well-balanced, segment-aware territories\n",
    "- Reps were matched to accounts based on availability and specialty\n",
    "- Territory index helped flag over- and under-weighted territories pre-assignment\n",
    "- Framework is scalable, auditable, and with a few changes it can be connected to GTM workflows\n"
   ]
  },
  {
   "cell_type": "markdown",
   "id": "b901461f",
   "metadata": {},
   "source": []
  }
 ],
 "metadata": {
  "language_info": {
   "name": "python"
  }
 },
 "nbformat": 4,
 "nbformat_minor": 5
}
